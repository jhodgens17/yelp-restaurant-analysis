{
 "cells": [
  {
   "cell_type": "markdown",
   "metadata": {},
   "source": [
    "# Getting Your Data From Yelp!"
   ]
  },
  {
   "cell_type": "markdown",
   "metadata": {},
   "source": [
    "In order to make sure you are on track to completing the project, you will complete this workbook first. Below are steps that you need to take in order to make sure you have your data from yelp and are ready to analyze it. Your cohort lead will review this workbook with you the Wednesday before your project is due.    "
   ]
  },
  {
   "cell_type": "markdown",
   "metadata": {},
   "source": [
    "## Part 1 - Understanding your data and question\n",
    "\n",
    "You will be pulling data from the Yelp API to complete your analysis. The api, however, provides you with a lot of information that will not be pertinent to your analysis. YOu will pull data from the api and parse through it to keep only the data that you will need. In order to help you identify that information,look at the API documentation and understand what data the api will provide you. \n",
    "\n",
    "Identify which data fields you will want to keep for your analysis. \n",
    "\n",
    "https://www.yelp.com/developers/documentation/v3/get_started"
   ]
  },
  {
   "cell_type": "markdown",
   "metadata": {},
   "source": [
    "___"
   ]
  },
  {
   "cell_type": "markdown",
   "metadata": {},
   "source": [
    "## Part 2 - Create ETL pipeline for the business data from the API\n",
    "\n",
    "Now that you know what data you need from the API, you want to write code that will execute a api call, parse those results and then insert the results into the DB.  \n",
    "\n",
    "It is helpful to break this up into three different functions (*api call, parse results, and insert into DB*) and then you can write a function/script that pull the other three functions together. \n",
    "\n",
    "Let's first do this for the Business endpoint."
   ]
  },
  {
   "cell_type": "markdown",
   "metadata": {},
   "source": [
    "- Write a function to make a call to the yelp API"
   ]
  },
  {
   "cell_type": "code",
   "execution_count": 435,
   "metadata": {},
   "outputs": [],
   "source": [
    "import pandas as pd\n",
    "import requests\n",
    "import json\n",
    "import os.path\n",
    "from os import path\n",
    "import csv"
   ]
  },
  {
   "cell_type": "code",
   "execution_count": 436,
   "metadata": {},
   "outputs": [],
   "source": [
    "yelp_id = \"4eucNo6rT7PNhkEzgMEKJQ\"\n",
    "yelp_key = \"7bG0ESSZL3r562AjGaZ-C2NFWWlOuwXiMJPb_xI0mUiziEKXWS9DVhiM_t4Jk0xdqLHc1qsKtDqdhrPRut4sHlmFac3p0rKuBKm3vUhAW0Vhb33NFzVaAaE7nXOaYHYx\""
   ]
  },
  {
   "cell_type": "code",
   "execution_count": 437,
   "metadata": {},
   "outputs": [],
   "source": [
    "def yelp_call(url_params, api_key):\n",
    "    headers = {'Authorization': 'Bearer ' + api_key}\n",
    "    response = requests.get('https://api.yelp.com/v3/businesses/search', headers=headers, params=url_params)\n",
    "    data = response.json()\n",
    "    return data"
   ]
  },
  {
   "cell_type": "markdown",
   "metadata": {},
   "source": [
    "- Write a function to parse the API response so that you can easily insert the data in to the DB"
   ]
  },
  {
   "cell_type": "code",
   "execution_count": 438,
   "metadata": {},
   "outputs": [],
   "source": [
    "url_params = {\n",
    "    'term': 'restaurant',\n",
    "    'location': 'Long+Beach+Island+NJ',\n",
    "    'limit': 10,\n",
    "    'offset': 0}\n",
    "api_key = yelp_key\n",
    "data = yelp_call(url_params, api_key)"
   ]
  },
  {
   "cell_type": "code",
   "execution_count": 463,
   "metadata": {},
   "outputs": [],
   "source": [
    "all_categories = ['id', 'name', 'is_closed', 'url', 'review_count', 'categories', \n",
    "                  'rating', 'latitude', 'longitude', 'address1', 'address2', \n",
    "                  'address3', 'city', 'state', 'zip_code', 'price']"
   ]
  },
  {
   "cell_type": "code",
   "execution_count": 464,
   "metadata": {},
   "outputs": [],
   "source": [
    "def parse_results(results):\n",
    "    parsed_data=[]\n",
    "    for business in results['businesses']:\n",
    "        if 'price' not in business:\n",
    "            business['price'] = None\n",
    "        business_data = [business['id'], business['name'], business['is_closed'], business['url'], \n",
    "                         business['review_count'], business['categories'], business['rating'], \n",
    "                         business['coordinates']['latitude'], business['coordinates']['longitude'], \n",
    "                         business['location']['address1'], business['location']['address2'], \n",
    "                         business['location']['address3'], business['location']['city'], \n",
    "                         business['location']['state'], business['location']['zip_code'], business['price']]\n",
    "        business_data_zip = dict(zip(all_categories, business_data))\n",
    "        parsed_data.append(business_data_zip)\n",
    "    return parsed_data"
   ]
  },
  {
   "cell_type": "markdown",
   "metadata": {},
   "source": [
    "- Write a function to take your parsed data and add it to the csv file where you will store all of your results. "
   ]
  },
  {
   "cell_type": "code",
   "execution_count": 441,
   "metadata": {},
   "outputs": [],
   "source": [
    "def df_save(csv_filepath, parsed_results):\n",
    "    parsed_df = pd.DataFrame(parsed_results)\n",
    "    if path.exists(csv_filepath) == False:\n",
    "        parsed_df.to_csv(csv_filepath, header=True)\n",
    "    else:\n",
    "        with open(csv_filepath, 'a') as f:\n",
    "            parsed_df.to_csv(f, header=False)"
   ]
  },
  {
   "cell_type": "markdown",
   "metadata": {},
   "source": [
    "- Write a script that combines the three functions above into a single process."
   ]
  },
  {
   "cell_type": "code",
   "execution_count": 42,
   "metadata": {},
   "outputs": [
    {
     "name": "stdout",
     "output_type": "stream",
     "text": [
      "Collecting helper-funcs\n",
      "  Downloading helper_funcs-0.1.35.tar.gz (6.3 kB)\n",
      "Requirement already satisfied: pandas in /Users/jameshodgens/opt/anaconda3/envs/learn-env/lib/python3.8/site-packages (from helper-funcs) (1.1.3)\n",
      "Requirement already satisfied: numpy in /Users/jameshodgens/opt/anaconda3/envs/learn-env/lib/python3.8/site-packages (from helper-funcs) (1.18.5)\n",
      "Requirement already satisfied: python-dateutil>=2.7.3 in /Users/jameshodgens/opt/anaconda3/envs/learn-env/lib/python3.8/site-packages (from pandas->helper-funcs) (2.8.1)\n",
      "Requirement already satisfied: pytz>=2017.2 in /Users/jameshodgens/opt/anaconda3/envs/learn-env/lib/python3.8/site-packages (from pandas->helper-funcs) (2020.1)\n",
      "Requirement already satisfied: six>=1.5 in /Users/jameshodgens/opt/anaconda3/envs/learn-env/lib/python3.8/site-packages (from python-dateutil>=2.7.3->pandas->helper-funcs) (1.15.0)\n",
      "Building wheels for collected packages: helper-funcs\n",
      "  Building wheel for helper-funcs (setup.py) ... \u001b[?25ldone\n",
      "\u001b[?25h  Created wheel for helper-funcs: filename=helper_funcs-0.1.35-py3-none-any.whl size=5991 sha256=bb4bde350ddfe0f739ec5349fd066c0d923ff944636bb91d8604e13fdb590c7a\n",
      "  Stored in directory: /Users/jameshodgens/Library/Caches/pip/wheels/c9/4d/0b/0e48fddaeb3676093c6c24dd72e5dd3fd901faad19d9deae42\n",
      "Successfully built helper-funcs\n",
      "Installing collected packages: helper-funcs\n",
      "Successfully installed helper-funcs-0.1.35\n",
      "Note: you may need to restart the kernel to use updated packages.\n"
     ]
    }
   ],
   "source": [
    "pip install helper-funcs"
   ]
  },
  {
   "cell_type": "markdown",
   "metadata": {},
   "source": [
    "While it will take some experimentation to write the functions above, once you get them working it will be best to put them in a `.py` file and then import the functions to use in a script "
   ]
  },
  {
   "cell_type": "code",
   "execution_count": 43,
   "metadata": {},
   "outputs": [],
   "source": [
    "from helper_funcs import *"
   ]
  },
  {
   "cell_type": "code",
   "execution_count": 442,
   "metadata": {},
   "outputs": [],
   "source": [
    "url_params = {\n",
    "    'term': 'restaurant',\n",
    "    'location': 'Long+Beach+Island+NJ',\n",
    "    'limit': 50,\n",
    "    'offset': 0}\n",
    "api_key = yelp_key\n",
    "data = yelp_call(url_params, api_key)"
   ]
  },
  {
   "cell_type": "code",
   "execution_count": 465,
   "metadata": {},
   "outputs": [],
   "source": [
    "# create a variable  to keep track of which result you are in. \n",
    "cur = 0\n",
    "\n",
    "#set up a while loop to go through and grab the result \n",
    "while cur < 200:\n",
    "    #set the offset parameter to be where you currently are in the results \n",
    "    url_params['offset'] = cur\n",
    "    #make your API call with the new offset number\n",
    "    results = yelp_call(url_params, api_key)\n",
    "    \n",
    "    #after you get your results you can now use your function to parse those results\n",
    "    parsed_results = parse_results(results)\n",
    "    \n",
    "    # use your function to insert your parsed results into the db\n",
    "    df_save('yelp_businesses.csv', parsed_results)\n",
    "    \n",
    "    #increment the counter by 50 to move on to the next results\n",
    "    cur += 50"
   ]
  },
  {
   "cell_type": "markdown",
   "metadata": {},
   "source": [
    "___"
   ]
  },
  {
   "cell_type": "code",
   "execution_count": 445,
   "metadata": {},
   "outputs": [],
   "source": [
    "business_df = pd.read_csv('yelp_businesses.csv')"
   ]
  },
  {
   "cell_type": "markdown",
   "metadata": {},
   "source": [
    "## Part 3 -  Create ETL pipeline for the restaurant review data from the API\n",
    "\n",
    "You've done this for the Businesses, now you need to do this for reviews. You will follow the same process, but your functions will be specific to reviews. Above you ahve a model of the functions you will need to write, and how to pull them together in one script. For this part, you ahve the process below "
   ]
  },
  {
   "cell_type": "markdown",
   "metadata": {},
   "source": [
    "- In order to pull the reveiws, you will need the business ids. So your first step will be to get all of the business ids from your businesses csv. "
   ]
  },
  {
   "cell_type": "code",
   "execution_count": 446,
   "metadata": {},
   "outputs": [
    {
     "data": {
      "text/plain": [
       "0      YVERvPBMurED_1yWtigJQw\n",
       "1      uMNgVdpOI22QFTkxaVo9sA\n",
       "2      uBMQXMgvK1iVdmS4CglCKA\n",
       "3      QKhSd92X3EF8fComzbA45w\n",
       "4      fstH18hKRdg5LLtocV8G_A\n",
       "                ...          \n",
       "195    GaPMgtqB7VOtTy_22IVaPA\n",
       "196    pjngrCUGboFoN_ECLV4DnQ\n",
       "197    zdDGGZlW937ACVmbedGrBA\n",
       "198    78UO-Qgt-Ja0RFIRHWxPDg\n",
       "199    _tTGWLMYPHBh2iCeOmscQg\n",
       "Name: id, Length: 200, dtype: object"
      ]
     },
     "execution_count": 446,
     "metadata": {},
     "output_type": "execute_result"
    }
   ],
   "source": [
    "business_ids=business_df['id']\n",
    "business_ids"
   ]
  },
  {
   "cell_type": "markdown",
   "metadata": {},
   "source": [
    "- Write a function that takes a business id and makes a call to the API for reivews\n"
   ]
  },
  {
   "cell_type": "code",
   "execution_count": 447,
   "metadata": {},
   "outputs": [
    {
     "data": {
      "text/plain": [
       "{'reviews': [{'id': 'LsdV0ahKp0-u1_yanCfNcQ',\n",
       "   'url': 'https://www.yelp.com/biz/salt-kitchen-and-bar-ship-bottom?adjust_creative=4eucNo6rT7PNhkEzgMEKJQ&hrid=LsdV0ahKp0-u1_yanCfNcQ&utm_campaign=yelp_api_v3&utm_medium=api_v3_business_reviews&utm_source=4eucNo6rT7PNhkEzgMEKJQ',\n",
       "   'text': 'We are staying at the Hotel LBI for a Covid staycation and rather than subjecting other diners to my 3 rambunctious kids we opted to order delivery. The...',\n",
       "   'rating': 4,\n",
       "   'time_created': '2021-02-28 19:02:13',\n",
       "   'user': {'id': 'FhNdhb9GhwzM50JCMM7JhQ',\n",
       "    'profile_url': 'https://www.yelp.com/user_details?userid=FhNdhb9GhwzM50JCMM7JhQ',\n",
       "    'image_url': None,\n",
       "    'name': 'Stephanie C.'}},\n",
       "  {'id': 'NxP4ajjpYMNsJR9QsU_z-A',\n",
       "   'url': 'https://www.yelp.com/biz/salt-kitchen-and-bar-ship-bottom?adjust_creative=4eucNo6rT7PNhkEzgMEKJQ&hrid=NxP4ajjpYMNsJR9QsU_z-A&utm_campaign=yelp_api_v3&utm_medium=api_v3_business_reviews&utm_source=4eucNo6rT7PNhkEzgMEKJQ',\n",
       "   'text': 'Celebrated my birthday here and it was lovely. It actually felt normal (other than the masks). We had the calamari which was excellent. And then the beet...',\n",
       "   'rating': 4,\n",
       "   'time_created': '2020-09-02 12:42:22',\n",
       "   'user': {'id': 'RG4Irpi84nvnGgyyFecIzA',\n",
       "    'profile_url': 'https://www.yelp.com/user_details?userid=RG4Irpi84nvnGgyyFecIzA',\n",
       "    'image_url': 'https://s3-media4.fl.yelpcdn.com/photo/5AuzZyvsVmSkVDL8DvYurw/o.jpg',\n",
       "    'name': 'Jacqueline S.'}},\n",
       "  {'id': 'GDPiGj-f4zSVfpaBYX8iZg',\n",
       "   'url': 'https://www.yelp.com/biz/salt-kitchen-and-bar-ship-bottom?adjust_creative=4eucNo6rT7PNhkEzgMEKJQ&hrid=GDPiGj-f4zSVfpaBYX8iZg&utm_campaign=yelp_api_v3&utm_medium=api_v3_business_reviews&utm_source=4eucNo6rT7PNhkEzgMEKJQ',\n",
       "   'text': 'Fantastic raw bar - we thoroughly enjoyed the seafood tower! Lobsters, king crab legs, little neck clams and oysters. All delicious! And halibut entree was...',\n",
       "   'rating': 4,\n",
       "   'time_created': '2020-07-16 13:52:34',\n",
       "   'user': {'id': 'EskYCO_bqeyI8NnnnwYc5g',\n",
       "    'profile_url': 'https://www.yelp.com/user_details?userid=EskYCO_bqeyI8NnnnwYc5g',\n",
       "    'image_url': None,\n",
       "    'name': 'Agnes S.'}}],\n",
       " 'total': 72,\n",
       " 'possible_languages': ['en']}"
      ]
     },
     "execution_count": 447,
     "metadata": {},
     "output_type": "execute_result"
    }
   ],
   "source": [
    "#Test code before building function\n",
    "business_id=business_df['id'][0]\n",
    "url = 'https://api.yelp.com/v3/businesses/'+business_id+'/reviews'\n",
    "headers = {\n",
    "    'Authorization': 'Bearer ' + creds['key']\n",
    "}\n",
    "\n",
    "response = requests.get(url, headers=headers)\n",
    "reviews_test = response.json()\n",
    "reviews_test"
   ]
  },
  {
   "cell_type": "code",
   "execution_count": 455,
   "metadata": {},
   "outputs": [],
   "source": [
    "def review_call(business_id):\n",
    "    headers = {'Authorization': 'Bearer ' + api_key}\n",
    "    response = requests.get('https://api.yelp.com/v3/businesses/'+business_id+'/reviews', headers=headers)\n",
    "    data = response.json()\n",
    "    return data"
   ]
  },
  {
   "cell_type": "markdown",
   "metadata": {},
   "source": [
    "- Write a function to parse out the relevant information from the reviews"
   ]
  },
  {
   "cell_type": "code",
   "execution_count": 459,
   "metadata": {},
   "outputs": [],
   "source": [
    "def parse_reviews(result, business_id):\n",
    "    parsed_results = []\n",
    "    for review in result['reviews']:\n",
    "        review_info = {'review_id': review['id'], 'text': review['text'], 'rating': review['rating'], \n",
    "                           'business_id': business_id}\n",
    "        parsed_results.append(review_info)\n",
    "    return parsed_results"
   ]
  },
  {
   "cell_type": "markdown",
   "metadata": {},
   "source": [
    "- Write a function to save the parse data into a csv file containing all of the reviews. "
   ]
  },
  {
   "cell_type": "code",
   "execution_count": 461,
   "metadata": {},
   "outputs": [],
   "source": [
    "def df_save(csv_filepath, parsed_results):\n",
    "    parsed_df = pd.DataFrame(parsed_results)\n",
    "    if path.exists(csv_filepath) == False:\n",
    "        parsed_df.to_csv(csv_filepath, header=True)\n",
    "    else:\n",
    "        with open(csv_filepath, 'a') as f:\n",
    "            parsed_df.to_csv(f, header=False)"
   ]
  },
  {
   "cell_type": "markdown",
   "metadata": {},
   "source": [
    "- Combine the functions above into a single script  "
   ]
  },
  {
   "cell_type": "code",
   "execution_count": 462,
   "metadata": {
    "scrolled": true
   },
   "outputs": [],
   "source": [
    "for business_id in business_ids:\n",
    "    data = review_call(business_id)\n",
    "    parsed_data = parse_reviews(data, business_id)\n",
    "    df_save('yelp_reviews.csv', parsed_data)"
   ]
  },
  {
   "cell_type": "markdown",
   "metadata": {},
   "source": [
    "___"
   ]
  },
  {
   "cell_type": "markdown",
   "metadata": {},
   "source": [
    "## Part 4 -  Using python and pandas, write code to answer the questions below. \n",
    "\n",
    "\n",
    "- Which are the 5 most reviewed businesses in your dataset?\n",
    "- What is the highest rating recieved in your data set and how many businesses have that rating?\n",
    "- What percentage of businesses have a rating greater than or  4.5?\n",
    "- What percentage of businesses have a rating less than 3?\n",
    "- What percentage of your businesseshave a price label of one dollar sign? Two dollar signs? Three dollar signs? No dollar signs?\n",
    "- Return the text of the reviews for the most reviewed business. \n",
    "- Find the highest rated business and return text of the most recent review. If multiple business have the same rating, select the business with the most reviews. \n",
    "- Find the lowest rated business and return text of the most recent review.  If multiple business have the same rating, select the business with the least reviews. \n"
   ]
  },
  {
   "cell_type": "code",
   "execution_count": 347,
   "metadata": {},
   "outputs": [
    {
     "data": {
      "text/html": [
       "<div>\n",
       "<style scoped>\n",
       "    .dataframe tbody tr th:only-of-type {\n",
       "        vertical-align: middle;\n",
       "    }\n",
       "\n",
       "    .dataframe tbody tr th {\n",
       "        vertical-align: top;\n",
       "    }\n",
       "\n",
       "    .dataframe thead th {\n",
       "        text-align: right;\n",
       "    }\n",
       "</style>\n",
       "<table border=\"1\" class=\"dataframe\">\n",
       "  <thead>\n",
       "    <tr style=\"text-align: right;\">\n",
       "      <th></th>\n",
       "      <th>Unnamed: 0</th>\n",
       "      <th>id</th>\n",
       "      <th>alias</th>\n",
       "      <th>name</th>\n",
       "      <th>image_url</th>\n",
       "      <th>is_closed</th>\n",
       "      <th>url</th>\n",
       "      <th>review_count</th>\n",
       "      <th>categories</th>\n",
       "      <th>rating</th>\n",
       "      <th>coordinates</th>\n",
       "      <th>transactions</th>\n",
       "      <th>price</th>\n",
       "      <th>location</th>\n",
       "      <th>phone</th>\n",
       "      <th>display_phone</th>\n",
       "      <th>distance</th>\n",
       "    </tr>\n",
       "  </thead>\n",
       "  <tbody>\n",
       "    <tr>\n",
       "      <th>0</th>\n",
       "      <td>0</td>\n",
       "      <td>QKhSd92X3EF8fComzbA45w</td>\n",
       "      <td>the-chicken-or-the-egg-beach-haven</td>\n",
       "      <td>The Chicken or the Egg</td>\n",
       "      <td>https://s3-media4.fl.yelpcdn.com/bphoto/VoIvIJ...</td>\n",
       "      <td>False</td>\n",
       "      <td>https://www.yelp.com/biz/the-chicken-or-the-eg...</td>\n",
       "      <td>912</td>\n",
       "      <td>[{'alias': 'tradamerican', 'title': 'American ...</td>\n",
       "      <td>4.5</td>\n",
       "      <td>{'latitude': 39.5646712, 'longitude': -74.2389...</td>\n",
       "      <td>['delivery']</td>\n",
       "      <td>$$</td>\n",
       "      <td>{'address1': '207 N Bay Ave', 'address2': '', ...</td>\n",
       "      <td>+16094923695</td>\n",
       "      <td>(609) 492-3695</td>\n",
       "      <td>8752.19418706395</td>\n",
       "    </tr>\n",
       "    <tr>\n",
       "      <th>1</th>\n",
       "      <td>1</td>\n",
       "      <td>YVERvPBMurED_1yWtigJQw</td>\n",
       "      <td>salt-kitchen-and-bar-ship-bottom</td>\n",
       "      <td>Salt Kitchen &amp; Bar</td>\n",
       "      <td>https://s3-media3.fl.yelpcdn.com/bphoto/hMih4j...</td>\n",
       "      <td>False</td>\n",
       "      <td>https://www.yelp.com/biz/salt-kitchen-and-bar-...</td>\n",
       "      <td>72</td>\n",
       "      <td>[{'alias': 'newamerican', 'title': 'American (...</td>\n",
       "      <td>4.0</td>\n",
       "      <td>{'latitude': 39.6527240135516, 'longitude': -7...</td>\n",
       "      <td>['delivery']</td>\n",
       "      <td>NaN</td>\n",
       "      <td>{'address1': '350 W 8th St', 'address2': '', '...</td>\n",
       "      <td>+16099918001</td>\n",
       "      <td>(609) 991-8001</td>\n",
       "      <td>2159.726113306633</td>\n",
       "    </tr>\n",
       "    <tr>\n",
       "      <th>2</th>\n",
       "      <td>2</td>\n",
       "      <td>uMNgVdpOI22QFTkxaVo9sA</td>\n",
       "      <td>the-beach-house-restaurant-beach-haven-terrace</td>\n",
       "      <td>The Beach House Restaurant</td>\n",
       "      <td>https://s3-media3.fl.yelpcdn.com/bphoto/P3CUfh...</td>\n",
       "      <td>False</td>\n",
       "      <td>https://www.yelp.com/biz/the-beach-house-resta...</td>\n",
       "      <td>101</td>\n",
       "      <td>[{'alias': 'seafood', 'title': 'Seafood'}, {'a...</td>\n",
       "      <td>4.0</td>\n",
       "      <td>{'latitude': 39.585813, 'longitude': -74.223744}</td>\n",
       "      <td>['restaurant_reservation', 'delivery']</td>\n",
       "      <td>$$$</td>\n",
       "      <td>{'address1': '13015 Long Beach Blvd', 'address...</td>\n",
       "      <td>+16094921997</td>\n",
       "      <td>(609) 492-1997</td>\n",
       "      <td>6067.463933556038</td>\n",
       "    </tr>\n",
       "    <tr>\n",
       "      <th>3</th>\n",
       "      <td>3</td>\n",
       "      <td>fstH18hKRdg5LLtocV8G_A</td>\n",
       "      <td>the-arlington-ship-bottom</td>\n",
       "      <td>The Arlington</td>\n",
       "      <td>https://s3-media1.fl.yelpcdn.com/bphoto/h_adK4...</td>\n",
       "      <td>False</td>\n",
       "      <td>https://www.yelp.com/biz/the-arlington-ship-bo...</td>\n",
       "      <td>344</td>\n",
       "      <td>[{'alias': 'newamerican', 'title': 'American (...</td>\n",
       "      <td>3.5</td>\n",
       "      <td>{'latitude': 39.6464704060192, 'longitude': -7...</td>\n",
       "      <td>['delivery']</td>\n",
       "      <td>$$$</td>\n",
       "      <td>{'address1': '1302 Long Beach Blvd', 'address2...</td>\n",
       "      <td>+16094948848</td>\n",
       "      <td>(609) 494-8848</td>\n",
       "      <td>1827.4537299185029</td>\n",
       "    </tr>\n",
       "    <tr>\n",
       "      <th>4</th>\n",
       "      <td>4</td>\n",
       "      <td>uBMQXMgvK1iVdmS4CglCKA</td>\n",
       "      <td>ship-bottom-shellfish-ship-bottom</td>\n",
       "      <td>Ship Bottom Shellfish</td>\n",
       "      <td>https://s3-media1.fl.yelpcdn.com/bphoto/z0nphd...</td>\n",
       "      <td>False</td>\n",
       "      <td>https://www.yelp.com/biz/ship-bottom-shellfish...</td>\n",
       "      <td>294</td>\n",
       "      <td>[{'alias': 'seafood', 'title': 'Seafood'}]</td>\n",
       "      <td>4.0</td>\n",
       "      <td>{'latitude': 39.6443336, 'longitude': -74.1802...</td>\n",
       "      <td>['delivery']</td>\n",
       "      <td>$$</td>\n",
       "      <td>{'address1': '1721 Long Beach Blvd', 'address2...</td>\n",
       "      <td>+16094940088</td>\n",
       "      <td>(609) 494-0088</td>\n",
       "      <td>1519.4403171809995</td>\n",
       "    </tr>\n",
       "    <tr>\n",
       "      <th>...</th>\n",
       "      <td>...</td>\n",
       "      <td>...</td>\n",
       "      <td>...</td>\n",
       "      <td>...</td>\n",
       "      <td>...</td>\n",
       "      <td>...</td>\n",
       "      <td>...</td>\n",
       "      <td>...</td>\n",
       "      <td>...</td>\n",
       "      <td>...</td>\n",
       "      <td>...</td>\n",
       "      <td>...</td>\n",
       "      <td>...</td>\n",
       "      <td>...</td>\n",
       "      <td>...</td>\n",
       "      <td>...</td>\n",
       "      <td>...</td>\n",
       "    </tr>\n",
       "    <tr>\n",
       "      <th>195</th>\n",
       "      <td>45</td>\n",
       "      <td>0LL-pGMFeh4gIUGlO0wbAg</td>\n",
       "      <td>philly-pretzel-factory-beach-haven</td>\n",
       "      <td>Philly Pretzel Factory</td>\n",
       "      <td>NaN</td>\n",
       "      <td>False</td>\n",
       "      <td>https://www.yelp.com/biz/philly-pretzel-factor...</td>\n",
       "      <td>1</td>\n",
       "      <td>[{'alias': 'bakeries', 'title': 'Bakeries'}, {...</td>\n",
       "      <td>1.0</td>\n",
       "      <td>{'latitude': 39.57037495375017, 'longitude': -...</td>\n",
       "      <td>[]</td>\n",
       "      <td>$$$</td>\n",
       "      <td>{'address1': '325 9th St', 'address2': '', 'ad...</td>\n",
       "      <td>+16094923245</td>\n",
       "      <td>(609) 492-3245</td>\n",
       "      <td>8113.562915932857</td>\n",
       "    </tr>\n",
       "    <tr>\n",
       "      <th>196</th>\n",
       "      <td>46</td>\n",
       "      <td>GaPMgtqB7VOtTy_22IVaPA</td>\n",
       "      <td>philly-pretzel-factory-stafford-township</td>\n",
       "      <td>Philly Pretzel Factory</td>\n",
       "      <td>NaN</td>\n",
       "      <td>False</td>\n",
       "      <td>https://www.yelp.com/biz/philly-pretzel-factor...</td>\n",
       "      <td>7</td>\n",
       "      <td>[{'alias': 'bakeries', 'title': 'Bakeries'}, {...</td>\n",
       "      <td>2.5</td>\n",
       "      <td>{'latitude': 39.6893069, 'longitude': -74.2450...</td>\n",
       "      <td>['delivery']</td>\n",
       "      <td>$</td>\n",
       "      <td>{'address1': '412 East Bay Ave', 'address2': '...</td>\n",
       "      <td>+16094890009</td>\n",
       "      <td>(609) 489-0009</td>\n",
       "      <td>7469.773835884276</td>\n",
       "    </tr>\n",
       "    <tr>\n",
       "      <th>197</th>\n",
       "      <td>47</td>\n",
       "      <td>zdDGGZlW937ACVmbedGrBA</td>\n",
       "      <td>golden-jade-manahawkin</td>\n",
       "      <td>Golden Jade</td>\n",
       "      <td>https://s3-media2.fl.yelpcdn.com/bphoto/shzqXq...</td>\n",
       "      <td>False</td>\n",
       "      <td>https://www.yelp.com/biz/golden-jade-manahawki...</td>\n",
       "      <td>22</td>\n",
       "      <td>[{'alias': 'chinese', 'title': 'Chinese'}]</td>\n",
       "      <td>2.0</td>\n",
       "      <td>{'latitude': 39.706691, 'longitude': -74.276422}</td>\n",
       "      <td>[]</td>\n",
       "      <td>$$</td>\n",
       "      <td>{'address1': '601 Washington Ave', 'address2':...</td>\n",
       "      <td>+16099788168</td>\n",
       "      <td>(609) 978-8168</td>\n",
       "      <td>10667.37260747689</td>\n",
       "    </tr>\n",
       "    <tr>\n",
       "      <th>198</th>\n",
       "      <td>48</td>\n",
       "      <td>78UO-Qgt-Ja0RFIRHWxPDg</td>\n",
       "      <td>pro-shop-beach-haven</td>\n",
       "      <td>Pro Shop</td>\n",
       "      <td>NaN</td>\n",
       "      <td>False</td>\n",
       "      <td>https://www.yelp.com/biz/pro-shop-beach-haven?...</td>\n",
       "      <td>1</td>\n",
       "      <td>[{'alias': 'delis', 'title': 'Delis'}]</td>\n",
       "      <td>1.0</td>\n",
       "      <td>{'latitude': 39.595861, 'longitude': -74.216481}</td>\n",
       "      <td>[]</td>\n",
       "      <td>NaN</td>\n",
       "      <td>{'address1': '11106 Long Beach Blvd', 'address...</td>\n",
       "      <td>+16094920515</td>\n",
       "      <td>(609) 492-0515</td>\n",
       "      <td>4792.0570773124255</td>\n",
       "    </tr>\n",
       "    <tr>\n",
       "      <th>199</th>\n",
       "      <td>49</td>\n",
       "      <td>_tTGWLMYPHBh2iCeOmscQg</td>\n",
       "      <td>bella-christinas-trattoria-stafford-township</td>\n",
       "      <td>Bella Christina's Trattoria</td>\n",
       "      <td>https://s3-media4.fl.yelpcdn.com/bphoto/vSRXI_...</td>\n",
       "      <td>False</td>\n",
       "      <td>https://www.yelp.com/biz/bella-christinas-trat...</td>\n",
       "      <td>14</td>\n",
       "      <td>[{'alias': 'restaurants', 'title': 'Restaurant...</td>\n",
       "      <td>2.5</td>\n",
       "      <td>{'latitude': 39.683601, 'longitude': -74.246468}</td>\n",
       "      <td>[]</td>\n",
       "      <td>$$$</td>\n",
       "      <td>{'address1': '511 Rt 72 E', 'address2': '', 'a...</td>\n",
       "      <td>+16095970575</td>\n",
       "      <td>(609) 597-0575</td>\n",
       "      <td>7048.058684532428</td>\n",
       "    </tr>\n",
       "  </tbody>\n",
       "</table>\n",
       "<p>200 rows × 17 columns</p>\n",
       "</div>"
      ],
      "text/plain": [
       "     Unnamed: 0                      id  \\\n",
       "0             0  QKhSd92X3EF8fComzbA45w   \n",
       "1             1  YVERvPBMurED_1yWtigJQw   \n",
       "2             2  uMNgVdpOI22QFTkxaVo9sA   \n",
       "3             3  fstH18hKRdg5LLtocV8G_A   \n",
       "4             4  uBMQXMgvK1iVdmS4CglCKA   \n",
       "..          ...                     ...   \n",
       "195          45  0LL-pGMFeh4gIUGlO0wbAg   \n",
       "196          46  GaPMgtqB7VOtTy_22IVaPA   \n",
       "197          47  zdDGGZlW937ACVmbedGrBA   \n",
       "198          48  78UO-Qgt-Ja0RFIRHWxPDg   \n",
       "199          49  _tTGWLMYPHBh2iCeOmscQg   \n",
       "\n",
       "                                              alias  \\\n",
       "0                the-chicken-or-the-egg-beach-haven   \n",
       "1                  salt-kitchen-and-bar-ship-bottom   \n",
       "2    the-beach-house-restaurant-beach-haven-terrace   \n",
       "3                         the-arlington-ship-bottom   \n",
       "4                 ship-bottom-shellfish-ship-bottom   \n",
       "..                                              ...   \n",
       "195              philly-pretzel-factory-beach-haven   \n",
       "196        philly-pretzel-factory-stafford-township   \n",
       "197                          golden-jade-manahawkin   \n",
       "198                            pro-shop-beach-haven   \n",
       "199    bella-christinas-trattoria-stafford-township   \n",
       "\n",
       "                            name  \\\n",
       "0         The Chicken or the Egg   \n",
       "1             Salt Kitchen & Bar   \n",
       "2     The Beach House Restaurant   \n",
       "3                  The Arlington   \n",
       "4          Ship Bottom Shellfish   \n",
       "..                           ...   \n",
       "195       Philly Pretzel Factory   \n",
       "196       Philly Pretzel Factory   \n",
       "197                  Golden Jade   \n",
       "198                     Pro Shop   \n",
       "199  Bella Christina's Trattoria   \n",
       "\n",
       "                                             image_url  is_closed  \\\n",
       "0    https://s3-media4.fl.yelpcdn.com/bphoto/VoIvIJ...      False   \n",
       "1    https://s3-media3.fl.yelpcdn.com/bphoto/hMih4j...      False   \n",
       "2    https://s3-media3.fl.yelpcdn.com/bphoto/P3CUfh...      False   \n",
       "3    https://s3-media1.fl.yelpcdn.com/bphoto/h_adK4...      False   \n",
       "4    https://s3-media1.fl.yelpcdn.com/bphoto/z0nphd...      False   \n",
       "..                                                 ...        ...   \n",
       "195                                                NaN      False   \n",
       "196                                                NaN      False   \n",
       "197  https://s3-media2.fl.yelpcdn.com/bphoto/shzqXq...      False   \n",
       "198                                                NaN      False   \n",
       "199  https://s3-media4.fl.yelpcdn.com/bphoto/vSRXI_...      False   \n",
       "\n",
       "                                                   url  review_count  \\\n",
       "0    https://www.yelp.com/biz/the-chicken-or-the-eg...           912   \n",
       "1    https://www.yelp.com/biz/salt-kitchen-and-bar-...            72   \n",
       "2    https://www.yelp.com/biz/the-beach-house-resta...           101   \n",
       "3    https://www.yelp.com/biz/the-arlington-ship-bo...           344   \n",
       "4    https://www.yelp.com/biz/ship-bottom-shellfish...           294   \n",
       "..                                                 ...           ...   \n",
       "195  https://www.yelp.com/biz/philly-pretzel-factor...             1   \n",
       "196  https://www.yelp.com/biz/philly-pretzel-factor...             7   \n",
       "197  https://www.yelp.com/biz/golden-jade-manahawki...            22   \n",
       "198  https://www.yelp.com/biz/pro-shop-beach-haven?...             1   \n",
       "199  https://www.yelp.com/biz/bella-christinas-trat...            14   \n",
       "\n",
       "                                            categories  rating  \\\n",
       "0    [{'alias': 'tradamerican', 'title': 'American ...     4.5   \n",
       "1    [{'alias': 'newamerican', 'title': 'American (...     4.0   \n",
       "2    [{'alias': 'seafood', 'title': 'Seafood'}, {'a...     4.0   \n",
       "3    [{'alias': 'newamerican', 'title': 'American (...     3.5   \n",
       "4           [{'alias': 'seafood', 'title': 'Seafood'}]     4.0   \n",
       "..                                                 ...     ...   \n",
       "195  [{'alias': 'bakeries', 'title': 'Bakeries'}, {...     1.0   \n",
       "196  [{'alias': 'bakeries', 'title': 'Bakeries'}, {...     2.5   \n",
       "197         [{'alias': 'chinese', 'title': 'Chinese'}]     2.0   \n",
       "198             [{'alias': 'delis', 'title': 'Delis'}]     1.0   \n",
       "199  [{'alias': 'restaurants', 'title': 'Restaurant...     2.5   \n",
       "\n",
       "                                           coordinates  \\\n",
       "0    {'latitude': 39.5646712, 'longitude': -74.2389...   \n",
       "1    {'latitude': 39.6527240135516, 'longitude': -7...   \n",
       "2     {'latitude': 39.585813, 'longitude': -74.223744}   \n",
       "3    {'latitude': 39.6464704060192, 'longitude': -7...   \n",
       "4    {'latitude': 39.6443336, 'longitude': -74.1802...   \n",
       "..                                                 ...   \n",
       "195  {'latitude': 39.57037495375017, 'longitude': -...   \n",
       "196  {'latitude': 39.6893069, 'longitude': -74.2450...   \n",
       "197   {'latitude': 39.706691, 'longitude': -74.276422}   \n",
       "198   {'latitude': 39.595861, 'longitude': -74.216481}   \n",
       "199   {'latitude': 39.683601, 'longitude': -74.246468}   \n",
       "\n",
       "                               transactions price  \\\n",
       "0                              ['delivery']    $$   \n",
       "1                              ['delivery']   NaN   \n",
       "2    ['restaurant_reservation', 'delivery']   $$$   \n",
       "3                              ['delivery']   $$$   \n",
       "4                              ['delivery']    $$   \n",
       "..                                      ...   ...   \n",
       "195                                      []   $$$   \n",
       "196                            ['delivery']     $   \n",
       "197                                      []    $$   \n",
       "198                                      []   NaN   \n",
       "199                                      []   $$$   \n",
       "\n",
       "                                              location         phone  \\\n",
       "0    {'address1': '207 N Bay Ave', 'address2': '', ...  +16094923695   \n",
       "1    {'address1': '350 W 8th St', 'address2': '', '...  +16099918001   \n",
       "2    {'address1': '13015 Long Beach Blvd', 'address...  +16094921997   \n",
       "3    {'address1': '1302 Long Beach Blvd', 'address2...  +16094948848   \n",
       "4    {'address1': '1721 Long Beach Blvd', 'address2...  +16094940088   \n",
       "..                                                 ...           ...   \n",
       "195  {'address1': '325 9th St', 'address2': '', 'ad...  +16094923245   \n",
       "196  {'address1': '412 East Bay Ave', 'address2': '...  +16094890009   \n",
       "197  {'address1': '601 Washington Ave', 'address2':...  +16099788168   \n",
       "198  {'address1': '11106 Long Beach Blvd', 'address...  +16094920515   \n",
       "199  {'address1': '511 Rt 72 E', 'address2': '', 'a...  +16095970575   \n",
       "\n",
       "      display_phone            distance  \n",
       "0    (609) 492-3695    8752.19418706395  \n",
       "1    (609) 991-8001   2159.726113306633  \n",
       "2    (609) 492-1997   6067.463933556038  \n",
       "3    (609) 494-8848  1827.4537299185029  \n",
       "4    (609) 494-0088  1519.4403171809995  \n",
       "..              ...                 ...  \n",
       "195  (609) 492-3245   8113.562915932857  \n",
       "196  (609) 489-0009   7469.773835884276  \n",
       "197  (609) 978-8168   10667.37260747689  \n",
       "198  (609) 492-0515  4792.0570773124255  \n",
       "199  (609) 597-0575   7048.058684532428  \n",
       "\n",
       "[200 rows x 17 columns]"
      ]
     },
     "execution_count": 347,
     "metadata": {},
     "output_type": "execute_result"
    }
   ],
   "source": [
    "business_df"
   ]
  },
  {
   "cell_type": "code",
   "execution_count": 348,
   "metadata": {
    "scrolled": true
   },
   "outputs": [
    {
     "data": {
      "text/html": [
       "<div>\n",
       "<style scoped>\n",
       "    .dataframe tbody tr th:only-of-type {\n",
       "        vertical-align: middle;\n",
       "    }\n",
       "\n",
       "    .dataframe tbody tr th {\n",
       "        vertical-align: top;\n",
       "    }\n",
       "\n",
       "    .dataframe thead th {\n",
       "        text-align: right;\n",
       "    }\n",
       "</style>\n",
       "<table border=\"1\" class=\"dataframe\">\n",
       "  <thead>\n",
       "    <tr style=\"text-align: right;\">\n",
       "      <th></th>\n",
       "      <th>Unnamed: 0</th>\n",
       "      <th>id</th>\n",
       "      <th>alias</th>\n",
       "      <th>name</th>\n",
       "      <th>image_url</th>\n",
       "      <th>is_closed</th>\n",
       "      <th>url</th>\n",
       "      <th>review_count</th>\n",
       "      <th>categories</th>\n",
       "      <th>rating</th>\n",
       "      <th>coordinates</th>\n",
       "      <th>transactions</th>\n",
       "      <th>price</th>\n",
       "      <th>location</th>\n",
       "      <th>phone</th>\n",
       "      <th>display_phone</th>\n",
       "      <th>distance</th>\n",
       "    </tr>\n",
       "  </thead>\n",
       "  <tbody>\n",
       "    <tr>\n",
       "      <th>0</th>\n",
       "      <td>0</td>\n",
       "      <td>QKhSd92X3EF8fComzbA45w</td>\n",
       "      <td>the-chicken-or-the-egg-beach-haven</td>\n",
       "      <td>The Chicken or the Egg</td>\n",
       "      <td>https://s3-media4.fl.yelpcdn.com/bphoto/VoIvIJ...</td>\n",
       "      <td>False</td>\n",
       "      <td>https://www.yelp.com/biz/the-chicken-or-the-eg...</td>\n",
       "      <td>912</td>\n",
       "      <td>[{'alias': 'tradamerican', 'title': 'American ...</td>\n",
       "      <td>4.5</td>\n",
       "      <td>{'latitude': 39.5646712, 'longitude': -74.2389...</td>\n",
       "      <td>['delivery']</td>\n",
       "      <td>$$</td>\n",
       "      <td>{'address1': '207 N Bay Ave', 'address2': '', ...</td>\n",
       "      <td>+16094923695</td>\n",
       "      <td>(609) 492-3695</td>\n",
       "      <td>8752.19418706395</td>\n",
       "    </tr>\n",
       "    <tr>\n",
       "      <th>18</th>\n",
       "      <td>18</td>\n",
       "      <td>WCTJFwg5vPqwwzo-21v8pQ</td>\n",
       "      <td>the-old-causeway-steak-and-oyster-house-staffo...</td>\n",
       "      <td>The Old Causeway Steak &amp; Oyster House</td>\n",
       "      <td>https://s3-media1.fl.yelpcdn.com/bphoto/0iTWJT...</td>\n",
       "      <td>False</td>\n",
       "      <td>https://www.yelp.com/biz/the-old-causeway-stea...</td>\n",
       "      <td>389</td>\n",
       "      <td>[{'alias': 'seafood', 'title': 'Seafood'}, {'a...</td>\n",
       "      <td>4.0</td>\n",
       "      <td>{'latitude': 39.6739616394043, 'longitude': -7...</td>\n",
       "      <td>['delivery']</td>\n",
       "      <td>$$</td>\n",
       "      <td>{'address1': '1201 E Bay Ave', 'address2': '',...</td>\n",
       "      <td>+16094881327</td>\n",
       "      <td>(609) 488-1327</td>\n",
       "      <td>4914.269174321862</td>\n",
       "    </tr>\n",
       "    <tr>\n",
       "      <th>30</th>\n",
       "      <td>30</td>\n",
       "      <td>JrukXlFWLBEkWJSR1pcBPQ</td>\n",
       "      <td>mud-city-crab-house-manahawkin</td>\n",
       "      <td>Mud City Crab House</td>\n",
       "      <td>https://s3-media2.fl.yelpcdn.com/bphoto/lWczvn...</td>\n",
       "      <td>False</td>\n",
       "      <td>https://www.yelp.com/biz/mud-city-crab-house-m...</td>\n",
       "      <td>384</td>\n",
       "      <td>[{'alias': 'seafood', 'title': 'Seafood'}]</td>\n",
       "      <td>4.0</td>\n",
       "      <td>{'latitude': 39.6745693227362, 'longitude': -7...</td>\n",
       "      <td>['delivery']</td>\n",
       "      <td>$$</td>\n",
       "      <td>{'address1': '1185 E Bay Ave', 'address2': '',...</td>\n",
       "      <td>+16099783660</td>\n",
       "      <td>(609) 978-3660</td>\n",
       "      <td>4982.353775066047</td>\n",
       "    </tr>\n",
       "    <tr>\n",
       "      <th>3</th>\n",
       "      <td>3</td>\n",
       "      <td>fstH18hKRdg5LLtocV8G_A</td>\n",
       "      <td>the-arlington-ship-bottom</td>\n",
       "      <td>The Arlington</td>\n",
       "      <td>https://s3-media1.fl.yelpcdn.com/bphoto/h_adK4...</td>\n",
       "      <td>False</td>\n",
       "      <td>https://www.yelp.com/biz/the-arlington-ship-bo...</td>\n",
       "      <td>344</td>\n",
       "      <td>[{'alias': 'newamerican', 'title': 'American (...</td>\n",
       "      <td>3.5</td>\n",
       "      <td>{'latitude': 39.6464704060192, 'longitude': -7...</td>\n",
       "      <td>['delivery']</td>\n",
       "      <td>$$$</td>\n",
       "      <td>{'address1': '1302 Long Beach Blvd', 'address2...</td>\n",
       "      <td>+16094948848</td>\n",
       "      <td>(609) 494-8848</td>\n",
       "      <td>1827.4537299185029</td>\n",
       "    </tr>\n",
       "    <tr>\n",
       "      <th>52</th>\n",
       "      <td>2</td>\n",
       "      <td>U7y3ih-GofVs8fUWf_qAgA</td>\n",
       "      <td>buckalews-restaurant-and-tavern-beach-haven</td>\n",
       "      <td>Buckalew's Restaurant &amp; Tavern</td>\n",
       "      <td>https://s3-media2.fl.yelpcdn.com/bphoto/HlTNGb...</td>\n",
       "      <td>False</td>\n",
       "      <td>https://www.yelp.com/biz/buckalews-restaurant-...</td>\n",
       "      <td>339</td>\n",
       "      <td>[{'alias': 'tradamerican', 'title': 'American ...</td>\n",
       "      <td>3.0</td>\n",
       "      <td>{'latitude': 39.56375, 'longitude': -74.23939}</td>\n",
       "      <td>['delivery']</td>\n",
       "      <td>$$</td>\n",
       "      <td>{'address1': '101 N Bay Ave', 'address2': '', ...</td>\n",
       "      <td>+16094921065</td>\n",
       "      <td>(609) 492-1065</td>\n",
       "      <td>8860.291246232726</td>\n",
       "    </tr>\n",
       "  </tbody>\n",
       "</table>\n",
       "</div>"
      ],
      "text/plain": [
       "    Unnamed: 0                      id  \\\n",
       "0            0  QKhSd92X3EF8fComzbA45w   \n",
       "18          18  WCTJFwg5vPqwwzo-21v8pQ   \n",
       "30          30  JrukXlFWLBEkWJSR1pcBPQ   \n",
       "3            3  fstH18hKRdg5LLtocV8G_A   \n",
       "52           2  U7y3ih-GofVs8fUWf_qAgA   \n",
       "\n",
       "                                                alias  \\\n",
       "0                  the-chicken-or-the-egg-beach-haven   \n",
       "18  the-old-causeway-steak-and-oyster-house-staffo...   \n",
       "30                     mud-city-crab-house-manahawkin   \n",
       "3                           the-arlington-ship-bottom   \n",
       "52        buckalews-restaurant-and-tavern-beach-haven   \n",
       "\n",
       "                                     name  \\\n",
       "0                  The Chicken or the Egg   \n",
       "18  The Old Causeway Steak & Oyster House   \n",
       "30                    Mud City Crab House   \n",
       "3                           The Arlington   \n",
       "52         Buckalew's Restaurant & Tavern   \n",
       "\n",
       "                                            image_url  is_closed  \\\n",
       "0   https://s3-media4.fl.yelpcdn.com/bphoto/VoIvIJ...      False   \n",
       "18  https://s3-media1.fl.yelpcdn.com/bphoto/0iTWJT...      False   \n",
       "30  https://s3-media2.fl.yelpcdn.com/bphoto/lWczvn...      False   \n",
       "3   https://s3-media1.fl.yelpcdn.com/bphoto/h_adK4...      False   \n",
       "52  https://s3-media2.fl.yelpcdn.com/bphoto/HlTNGb...      False   \n",
       "\n",
       "                                                  url  review_count  \\\n",
       "0   https://www.yelp.com/biz/the-chicken-or-the-eg...           912   \n",
       "18  https://www.yelp.com/biz/the-old-causeway-stea...           389   \n",
       "30  https://www.yelp.com/biz/mud-city-crab-house-m...           384   \n",
       "3   https://www.yelp.com/biz/the-arlington-ship-bo...           344   \n",
       "52  https://www.yelp.com/biz/buckalews-restaurant-...           339   \n",
       "\n",
       "                                           categories  rating  \\\n",
       "0   [{'alias': 'tradamerican', 'title': 'American ...     4.5   \n",
       "18  [{'alias': 'seafood', 'title': 'Seafood'}, {'a...     4.0   \n",
       "30         [{'alias': 'seafood', 'title': 'Seafood'}]     4.0   \n",
       "3   [{'alias': 'newamerican', 'title': 'American (...     3.5   \n",
       "52  [{'alias': 'tradamerican', 'title': 'American ...     3.0   \n",
       "\n",
       "                                          coordinates  transactions price  \\\n",
       "0   {'latitude': 39.5646712, 'longitude': -74.2389...  ['delivery']    $$   \n",
       "18  {'latitude': 39.6739616394043, 'longitude': -7...  ['delivery']    $$   \n",
       "30  {'latitude': 39.6745693227362, 'longitude': -7...  ['delivery']    $$   \n",
       "3   {'latitude': 39.6464704060192, 'longitude': -7...  ['delivery']   $$$   \n",
       "52     {'latitude': 39.56375, 'longitude': -74.23939}  ['delivery']    $$   \n",
       "\n",
       "                                             location         phone  \\\n",
       "0   {'address1': '207 N Bay Ave', 'address2': '', ...  +16094923695   \n",
       "18  {'address1': '1201 E Bay Ave', 'address2': '',...  +16094881327   \n",
       "30  {'address1': '1185 E Bay Ave', 'address2': '',...  +16099783660   \n",
       "3   {'address1': '1302 Long Beach Blvd', 'address2...  +16094948848   \n",
       "52  {'address1': '101 N Bay Ave', 'address2': '', ...  +16094921065   \n",
       "\n",
       "     display_phone            distance  \n",
       "0   (609) 492-3695    8752.19418706395  \n",
       "18  (609) 488-1327   4914.269174321862  \n",
       "30  (609) 978-3660   4982.353775066047  \n",
       "3   (609) 494-8848  1827.4537299185029  \n",
       "52  (609) 492-1065   8860.291246232726  "
      ]
     },
     "execution_count": 348,
     "metadata": {},
     "output_type": "execute_result"
    }
   ],
   "source": [
    "#1 - five most reviewed businesses\n",
    "business_df.sort_values('review_count', ascending = False)[0:5]"
   ]
  },
  {
   "cell_type": "code",
   "execution_count": 349,
   "metadata": {
    "scrolled": true
   },
   "outputs": [
    {
     "data": {
      "text/plain": [
       "rating\n",
       "5.0    13\n",
       "4.5    25\n",
       "4.0    62\n",
       "3.5    52\n",
       "3.0    28\n",
       "2.5    10\n",
       "2.0     6\n",
       "1.5     2\n",
       "1.0     2\n",
       "Name: id, dtype: int64"
      ]
     },
     "execution_count": 349,
     "metadata": {},
     "output_type": "execute_result"
    }
   ],
   "source": [
    "#2 - highest rating\n",
    "business_df.groupby('rating').count().sort_values('rating', ascending = False)['id']"
   ]
  },
  {
   "cell_type": "code",
   "execution_count": 350,
   "metadata": {},
   "outputs": [
    {
     "data": {
      "text/plain": [
       "0.19"
      ]
     },
     "execution_count": 350,
     "metadata": {},
     "output_type": "execute_result"
    }
   ],
   "source": [
    "#3 - percentage greater than or qeual to 4.5\n",
    "rating_counts = business_df.groupby('rating').count().sort_values('rating', ascending = False)['id']\n",
    "best_restaurants = rating_counts[5.0]+rating_counts[4.5]\n",
    "total_restaurants = business_df.shape[0]\n",
    "best_restaurants/total_restaurants"
   ]
  },
  {
   "cell_type": "code",
   "execution_count": 351,
   "metadata": {},
   "outputs": [
    {
     "data": {
      "text/plain": [
       "0.1"
      ]
     },
     "execution_count": 351,
     "metadata": {},
     "output_type": "execute_result"
    }
   ],
   "source": [
    "#4 - percentage less than 3\n",
    "worst_restaurants = rating_counts[1.0] + rating_counts[1.5] + rating_counts[2.0] + rating_counts[2.5]\n",
    "worst_restaurants/total_restaurants"
   ]
  },
  {
   "cell_type": "code",
   "execution_count": 352,
   "metadata": {},
   "outputs": [
    {
     "data": {
      "text/plain": [
       "price\n",
       "$      43\n",
       "$$     90\n",
       "$$$    18\n",
       "Name: id, dtype: int64"
      ]
     },
     "execution_count": 352,
     "metadata": {},
     "output_type": "execute_result"
    }
   ],
   "source": [
    "#5 - percentage by dollar sign\n",
    "business_df.groupby('price').count()['id']"
   ]
  },
  {
   "cell_type": "code",
   "execution_count": 353,
   "metadata": {
    "scrolled": true
   },
   "outputs": [
    {
     "name": "stdout",
     "output_type": "stream",
     "text": [
      "Restaurants with one dollar sign: 0.015\n",
      "Restaurants with two dollar signs: 0.145\n",
      "Restaurants with three dollar signs: 0.055\n",
      "Restaurants with no dollar signs: 0.785\n"
     ]
    }
   ],
   "source": [
    "print('Restaurants with one dollar sign: ' + str(businessdf.groupby('price').count()['id']['$']/total_restaurants))\n",
    "print('Restaurants with two dollar signs: ' + str(businessdf.groupby('price').count()['id']['$$']/total_restaurants))\n",
    "print('Restaurants with three dollar signs: ' + str(businessdf.groupby('price').count()['id']['$$$']/total_restaurants))\n",
    "print('Restaurants with no dollar signs: ' + str(1-(businessdf.groupby('price').count()['id']['$'] + businessdf.groupby('price').count()['id']['$$'] + businessdf.groupby('price').count()['id']['$$$'])/total_restaurants))"
   ]
  },
  {
   "cell_type": "code",
   "execution_count": 354,
   "metadata": {},
   "outputs": [],
   "source": [
    "reviewdf = pd.read_csv('yelp_reviews.csv')"
   ]
  },
  {
   "cell_type": "code",
   "execution_count": 359,
   "metadata": {},
   "outputs": [
    {
     "data": {
      "text/plain": [
       "'QKhSd92X3EF8fComzbA45w'"
      ]
     },
     "execution_count": 359,
     "metadata": {},
     "output_type": "execute_result"
    }
   ],
   "source": [
    "#6 - most reviewed business\n",
    "most_reviewed = businessdf.sort_values('review_count', ascending = False)[0:1]['id'][0]\n",
    "most_reviewed"
   ]
  },
  {
   "cell_type": "code",
   "execution_count": 361,
   "metadata": {
    "scrolled": true
   },
   "outputs": [
    {
     "data": {
      "text/plain": [
       "0    They are the best wings I have had. There whit...\n",
       "1    This really is the spot if you are from the is...\n",
       "2    This LBI staple just never disappoints. We wer...\n",
       "Name: text, dtype: object"
      ]
     },
     "execution_count": 361,
     "metadata": {},
     "output_type": "execute_result"
    }
   ],
   "source": [
    "# get reviews for most reviewed business\n",
    "reviewdf[reviewdf['business_id'] == most_reviewed]['text']"
   ]
  },
  {
   "cell_type": "code",
   "execution_count": 225,
   "metadata": {
    "scrolled": true
   },
   "outputs": [
    {
     "data": {
      "text/plain": [
       "'I have to give it to this place, it does not look like much sitting inside Fantasy Island Amusement Park in Beach Haven LBI, however with the expanded...'"
      ]
     },
     "execution_count": 225,
     "metadata": {},
     "output_type": "execute_result"
    }
   ],
   "source": [
    "#7 - text of the most recent review for 5.0 rating with the most reviews\n",
    "five_point_restaurant = businessdf[businessdf['rating'] == 5.0]['id'][8]\n",
    "reviewdf[reviewdf['business id'] == five_point_restaurant]['text'][18]"
   ]
  },
  {
   "cell_type": "code",
   "execution_count": 379,
   "metadata": {},
   "outputs": [
    {
     "data": {
      "text/plain": [
       "'I returned again to this location this week hoping for a good Philly Soft Pretzel.  Well even though this is a Philly Pretzel location, they no longer serve...'"
      ]
     },
     "execution_count": 379,
     "metadata": {},
     "output_type": "execute_result"
    }
   ],
   "source": [
    "#8 - text of the most recent review for lowest rated business with the least reviews\n",
    "one_star = businessdf[businessdf['rating'] == 1.0].sort_values('review_count')['id'][0:1][195]\n",
    "reviewdf[reviewdf['business_id'] == one_star]['text'][556]"
   ]
  },
  {
   "cell_type": "markdown",
   "metadata": {},
   "source": [
    "___"
   ]
  },
  {
   "cell_type": "markdown",
   "metadata": {},
   "source": [
    "# Reference help"
   ]
  },
  {
   "cell_type": "markdown",
   "metadata": {},
   "source": [
    "###  Pagination\n",
    "\n",
    "Returning to the Yelp API, the [documentation](https://www.yelp.com/developers/documentation/v3/business_search) also provides us details regarding the API limits. These often include details about the number of requests a user is allowed to make within a specified time limit and the maximum number of results to be returned. In this case, we are told that any request has a maximum of 50 results per request and defaults to 20. Furthermore, any search will be limited to a total of 1000 results. To retrieve all 1000 of these results, we would have to page through the results piece by piece, retriving 50 at a time. Processes such as these are often refered to as pagination.\n",
    "\n",
    "Now that you have an initial response, you can examine the contents of the json container. For example, you might start with ```response.json().keys()```. Here, you'll see a key for `'total'`, which tells you the full number of matching results given your query parameters. Write a loop (or ideally a function) which then makes successive API calls using the offset parameter to retrieve all of the results (or 5000 for a particularly large result set) for the original query. As you do this, be mindful of how you store the data. \n",
    "\n",
    "**Note: be mindful of the API rate limits. You can only make 5000 requests per day, and APIs can make requests too fast. Start prototyping small before running a loop that could be faulty. You can also use time.sleep(n) to add delays. For more details see https://www.yelp.com/developers/documentation/v3/rate_limiting.**"
   ]
  },
  {
   "cell_type": "markdown",
   "metadata": {},
   "source": [
    "***Below is sample code that you can use to help you deal with the pagination parameter and bring all of the functions together.***\n",
    "\n",
    "\n",
    "***Also, something might cause your code to break while it is running. You don't want to constantly repull the same data when this happens, so you should insert the data into the database as you call and parse it, not after you have all of the data***\n"
   ]
  },
  {
   "cell_type": "code",
   "execution_count": null,
   "metadata": {},
   "outputs": [],
   "source": [
    "# create a variable  to keep track of which result you are in. \n",
    "cur = 0\n",
    "\n",
    "#set up a while loop to go through and grab the result \n",
    "while cur < num and cur < 1000:\n",
    "    #set the offset parameter to be where you currently are in the results \n",
    "    url_params['offset'] = cur\n",
    "    #make your API call with the new offset number\n",
    "    results = yelp_call(url_params, api_key)\n",
    "    \n",
    "    #after you get your results you can now use your function to parse those results\n",
    "    parsed_results = parse_results(results)\n",
    "    \n",
    "    # use your function to insert your parsed results into the db\n",
    "    db_insert(parsed_results)\n",
    "    #increment the counter by 50 to move on to the next results\n",
    "    cur += 20"
   ]
  },
  {
   "cell_type": "code",
   "execution_count": 391,
   "metadata": {},
   "outputs": [],
   "source": [
    "test = reviewdf['user'][0]"
   ]
  },
  {
   "cell_type": "code",
   "execution_count": 394,
   "metadata": {},
   "outputs": [
    {
     "data": {
      "text/plain": [
       "'Edward G.'"
      ]
     },
     "execution_count": 394,
     "metadata": {},
     "output_type": "execute_result"
    }
   ],
   "source": [
    "eval(test)['name']"
   ]
  },
  {
   "cell_type": "code",
   "execution_count": 397,
   "metadata": {},
   "outputs": [],
   "source": [
    "for user in reviewdf['user']:\n",
    "    if eval(user)['name'] == 'Paul H.':\n",
    "        print(\"He is in here!\")\n",
    "    else:\n",
    "        continue"
   ]
  },
  {
   "cell_type": "code",
   "execution_count": 398,
   "metadata": {},
   "outputs": [
    {
     "data": {
      "text/html": [
       "<div>\n",
       "<style scoped>\n",
       "    .dataframe tbody tr th:only-of-type {\n",
       "        vertical-align: middle;\n",
       "    }\n",
       "\n",
       "    .dataframe tbody tr th {\n",
       "        vertical-align: top;\n",
       "    }\n",
       "\n",
       "    .dataframe thead th {\n",
       "        text-align: right;\n",
       "    }\n",
       "</style>\n",
       "<table border=\"1\" class=\"dataframe\">\n",
       "  <thead>\n",
       "    <tr style=\"text-align: right;\">\n",
       "      <th></th>\n",
       "      <th>Unnamed: 0</th>\n",
       "      <th>id</th>\n",
       "      <th>url</th>\n",
       "      <th>text</th>\n",
       "      <th>rating</th>\n",
       "      <th>time_created</th>\n",
       "      <th>user</th>\n",
       "      <th>business_id</th>\n",
       "    </tr>\n",
       "  </thead>\n",
       "  <tbody>\n",
       "    <tr>\n",
       "      <th>0</th>\n",
       "      <td>0</td>\n",
       "      <td>lpd_Tf4ylaMyB41P3Wb8JA</td>\n",
       "      <td>https://www.yelp.com/biz/the-chicken-or-the-eg...</td>\n",
       "      <td>They are the best wings I have had. There whit...</td>\n",
       "      <td>5</td>\n",
       "      <td>2021-03-21 13:40:05</td>\n",
       "      <td>{'id': 'RKWiAZIvnDj2RajMC9Ddxw', 'profile_url'...</td>\n",
       "      <td>QKhSd92X3EF8fComzbA45w</td>\n",
       "    </tr>\n",
       "    <tr>\n",
       "      <th>1</th>\n",
       "      <td>1</td>\n",
       "      <td>lcqitQLElJlVRMxdaKcyIQ</td>\n",
       "      <td>https://www.yelp.com/biz/the-chicken-or-the-eg...</td>\n",
       "      <td>This really is the spot if you are from the is...</td>\n",
       "      <td>5</td>\n",
       "      <td>2021-04-09 09:41:54</td>\n",
       "      <td>{'id': 'ntlAoryIWOPmp9-qaAKYLQ', 'profile_url'...</td>\n",
       "      <td>QKhSd92X3EF8fComzbA45w</td>\n",
       "    </tr>\n",
       "    <tr>\n",
       "      <th>2</th>\n",
       "      <td>2</td>\n",
       "      <td>KQXuf6uBBczB1qCJvOu21Q</td>\n",
       "      <td>https://www.yelp.com/biz/the-chicken-or-the-eg...</td>\n",
       "      <td>This LBI staple just never disappoints. We wer...</td>\n",
       "      <td>5</td>\n",
       "      <td>2021-01-01 12:04:01</td>\n",
       "      <td>{'id': 'mSaD4g37jCy4-95pB6NWKA', 'profile_url'...</td>\n",
       "      <td>QKhSd92X3EF8fComzbA45w</td>\n",
       "    </tr>\n",
       "    <tr>\n",
       "      <th>3</th>\n",
       "      <td>0</td>\n",
       "      <td>LsdV0ahKp0-u1_yanCfNcQ</td>\n",
       "      <td>https://www.yelp.com/biz/salt-kitchen-and-bar-...</td>\n",
       "      <td>We are staying at the Hotel LBI for a Covid st...</td>\n",
       "      <td>4</td>\n",
       "      <td>2021-02-28 19:02:13</td>\n",
       "      <td>{'id': 'FhNdhb9GhwzM50JCMM7JhQ', 'profile_url'...</td>\n",
       "      <td>YVERvPBMurED_1yWtigJQw</td>\n",
       "    </tr>\n",
       "    <tr>\n",
       "      <th>4</th>\n",
       "      <td>1</td>\n",
       "      <td>NxP4ajjpYMNsJR9QsU_z-A</td>\n",
       "      <td>https://www.yelp.com/biz/salt-kitchen-and-bar-...</td>\n",
       "      <td>Celebrated my birthday here and it was lovely....</td>\n",
       "      <td>4</td>\n",
       "      <td>2020-09-02 12:42:22</td>\n",
       "      <td>{'id': 'RG4Irpi84nvnGgyyFecIzA', 'profile_url'...</td>\n",
       "      <td>YVERvPBMurED_1yWtigJQw</td>\n",
       "    </tr>\n",
       "    <tr>\n",
       "      <th>...</th>\n",
       "      <td>...</td>\n",
       "      <td>...</td>\n",
       "      <td>...</td>\n",
       "      <td>...</td>\n",
       "      <td>...</td>\n",
       "      <td>...</td>\n",
       "      <td>...</td>\n",
       "      <td>...</td>\n",
       "    </tr>\n",
       "    <tr>\n",
       "      <th>562</th>\n",
       "      <td>2</td>\n",
       "      <td>MohE6vGlSiD2C6fMPd7SRg</td>\n",
       "      <td>https://www.yelp.com/biz/golden-jade-manahawki...</td>\n",
       "      <td>We go here frequently, but sadly (on Mother's ...</td>\n",
       "      <td>1</td>\n",
       "      <td>2019-05-12 18:32:48</td>\n",
       "      <td>{'id': 'Jwci4ffGYpCLDRc4pxlvCg', 'profile_url'...</td>\n",
       "      <td>zdDGGZlW937ACVmbedGrBA</td>\n",
       "    </tr>\n",
       "    <tr>\n",
       "      <th>563</th>\n",
       "      <td>0</td>\n",
       "      <td>TmoEGdkp-c3AB_xi7BRLhA</td>\n",
       "      <td>https://www.yelp.com/biz/pro-shop-beach-haven?...</td>\n",
       "      <td>Poor service, way overpriced. Children running...</td>\n",
       "      <td>1</td>\n",
       "      <td>2013-08-15 05:53:29</td>\n",
       "      <td>{'id': 'ne5qhKTEzD20Nf9aG6ZCNg', 'profile_url'...</td>\n",
       "      <td>78UO-Qgt-Ja0RFIRHWxPDg</td>\n",
       "    </tr>\n",
       "    <tr>\n",
       "      <th>564</th>\n",
       "      <td>0</td>\n",
       "      <td>o_a4tf7HrHEfaT9OCl9YDw</td>\n",
       "      <td>https://www.yelp.com/biz/bella-christinas-trat...</td>\n",
       "      <td>I had really high hopes for this place.  Seein...</td>\n",
       "      <td>2</td>\n",
       "      <td>2013-05-28 13:26:42</td>\n",
       "      <td>{'id': 'cnlCi0XAYMp-2r4M5Ec9Xw', 'profile_url'...</td>\n",
       "      <td>_tTGWLMYPHBh2iCeOmscQg</td>\n",
       "    </tr>\n",
       "    <tr>\n",
       "      <th>565</th>\n",
       "      <td>1</td>\n",
       "      <td>Sec1LP6Wn2GFYD8wVZnURg</td>\n",
       "      <td>https://www.yelp.com/biz/bella-christinas-trat...</td>\n",
       "      <td>All was good.. Equal or better than other Ital...</td>\n",
       "      <td>5</td>\n",
       "      <td>2014-11-24 17:56:45</td>\n",
       "      <td>{'id': '7-sKlu70SZGlD60Z7dPixg', 'profile_url'...</td>\n",
       "      <td>_tTGWLMYPHBh2iCeOmscQg</td>\n",
       "    </tr>\n",
       "    <tr>\n",
       "      <th>566</th>\n",
       "      <td>2</td>\n",
       "      <td>WjGTKdWmI1W6JZPs9eYSwQ</td>\n",
       "      <td>https://www.yelp.com/biz/bella-christinas-trat...</td>\n",
       "      <td>Went back on Valentine's Day and had an excell...</td>\n",
       "      <td>5</td>\n",
       "      <td>2015-05-17 11:18:21</td>\n",
       "      <td>{'id': '-_3pIwa5Xy85-wv2pTMdnA', 'profile_url'...</td>\n",
       "      <td>_tTGWLMYPHBh2iCeOmscQg</td>\n",
       "    </tr>\n",
       "  </tbody>\n",
       "</table>\n",
       "<p>567 rows × 8 columns</p>\n",
       "</div>"
      ],
      "text/plain": [
       "     Unnamed: 0                      id  \\\n",
       "0             0  lpd_Tf4ylaMyB41P3Wb8JA   \n",
       "1             1  lcqitQLElJlVRMxdaKcyIQ   \n",
       "2             2  KQXuf6uBBczB1qCJvOu21Q   \n",
       "3             0  LsdV0ahKp0-u1_yanCfNcQ   \n",
       "4             1  NxP4ajjpYMNsJR9QsU_z-A   \n",
       "..          ...                     ...   \n",
       "562           2  MohE6vGlSiD2C6fMPd7SRg   \n",
       "563           0  TmoEGdkp-c3AB_xi7BRLhA   \n",
       "564           0  o_a4tf7HrHEfaT9OCl9YDw   \n",
       "565           1  Sec1LP6Wn2GFYD8wVZnURg   \n",
       "566           2  WjGTKdWmI1W6JZPs9eYSwQ   \n",
       "\n",
       "                                                   url  \\\n",
       "0    https://www.yelp.com/biz/the-chicken-or-the-eg...   \n",
       "1    https://www.yelp.com/biz/the-chicken-or-the-eg...   \n",
       "2    https://www.yelp.com/biz/the-chicken-or-the-eg...   \n",
       "3    https://www.yelp.com/biz/salt-kitchen-and-bar-...   \n",
       "4    https://www.yelp.com/biz/salt-kitchen-and-bar-...   \n",
       "..                                                 ...   \n",
       "562  https://www.yelp.com/biz/golden-jade-manahawki...   \n",
       "563  https://www.yelp.com/biz/pro-shop-beach-haven?...   \n",
       "564  https://www.yelp.com/biz/bella-christinas-trat...   \n",
       "565  https://www.yelp.com/biz/bella-christinas-trat...   \n",
       "566  https://www.yelp.com/biz/bella-christinas-trat...   \n",
       "\n",
       "                                                  text  rating  \\\n",
       "0    They are the best wings I have had. There whit...       5   \n",
       "1    This really is the spot if you are from the is...       5   \n",
       "2    This LBI staple just never disappoints. We wer...       5   \n",
       "3    We are staying at the Hotel LBI for a Covid st...       4   \n",
       "4    Celebrated my birthday here and it was lovely....       4   \n",
       "..                                                 ...     ...   \n",
       "562  We go here frequently, but sadly (on Mother's ...       1   \n",
       "563  Poor service, way overpriced. Children running...       1   \n",
       "564  I had really high hopes for this place.  Seein...       2   \n",
       "565  All was good.. Equal or better than other Ital...       5   \n",
       "566  Went back on Valentine's Day and had an excell...       5   \n",
       "\n",
       "            time_created                                               user  \\\n",
       "0    2021-03-21 13:40:05  {'id': 'RKWiAZIvnDj2RajMC9Ddxw', 'profile_url'...   \n",
       "1    2021-04-09 09:41:54  {'id': 'ntlAoryIWOPmp9-qaAKYLQ', 'profile_url'...   \n",
       "2    2021-01-01 12:04:01  {'id': 'mSaD4g37jCy4-95pB6NWKA', 'profile_url'...   \n",
       "3    2021-02-28 19:02:13  {'id': 'FhNdhb9GhwzM50JCMM7JhQ', 'profile_url'...   \n",
       "4    2020-09-02 12:42:22  {'id': 'RG4Irpi84nvnGgyyFecIzA', 'profile_url'...   \n",
       "..                   ...                                                ...   \n",
       "562  2019-05-12 18:32:48  {'id': 'Jwci4ffGYpCLDRc4pxlvCg', 'profile_url'...   \n",
       "563  2013-08-15 05:53:29  {'id': 'ne5qhKTEzD20Nf9aG6ZCNg', 'profile_url'...   \n",
       "564  2013-05-28 13:26:42  {'id': 'cnlCi0XAYMp-2r4M5Ec9Xw', 'profile_url'...   \n",
       "565  2014-11-24 17:56:45  {'id': '7-sKlu70SZGlD60Z7dPixg', 'profile_url'...   \n",
       "566  2015-05-17 11:18:21  {'id': '-_3pIwa5Xy85-wv2pTMdnA', 'profile_url'...   \n",
       "\n",
       "                business_id  \n",
       "0    QKhSd92X3EF8fComzbA45w  \n",
       "1    QKhSd92X3EF8fComzbA45w  \n",
       "2    QKhSd92X3EF8fComzbA45w  \n",
       "3    YVERvPBMurED_1yWtigJQw  \n",
       "4    YVERvPBMurED_1yWtigJQw  \n",
       "..                      ...  \n",
       "562  zdDGGZlW937ACVmbedGrBA  \n",
       "563  78UO-Qgt-Ja0RFIRHWxPDg  \n",
       "564  _tTGWLMYPHBh2iCeOmscQg  \n",
       "565  _tTGWLMYPHBh2iCeOmscQg  \n",
       "566  _tTGWLMYPHBh2iCeOmscQg  \n",
       "\n",
       "[567 rows x 8 columns]"
      ]
     },
     "execution_count": 398,
     "metadata": {},
     "output_type": "execute_result"
    }
   ],
   "source": [
    "reviewdf"
   ]
  },
  {
   "cell_type": "code",
   "execution_count": null,
   "metadata": {},
   "outputs": [],
   "source": []
  }
 ],
 "metadata": {
  "kernelspec": {
   "display_name": "Python 3",
   "language": "python",
   "name": "python3"
  },
  "language_info": {
   "codemirror_mode": {
    "name": "ipython",
    "version": 3
   },
   "file_extension": ".py",
   "mimetype": "text/x-python",
   "name": "python",
   "nbconvert_exporter": "python",
   "pygments_lexer": "ipython3",
   "version": "3.8.5"
  },
  "toc": {
   "base_numbering": 1,
   "nav_menu": {},
   "number_sections": false,
   "sideBar": true,
   "skip_h1_title": false,
   "title_cell": "Table of Contents",
   "title_sidebar": "Contents",
   "toc_cell": false,
   "toc_position": {},
   "toc_section_display": true,
   "toc_window_display": false
  }
 },
 "nbformat": 4,
 "nbformat_minor": 2
}
